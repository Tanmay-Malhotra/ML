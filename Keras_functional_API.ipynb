{
  "nbformat": 4,
  "nbformat_minor": 0,
  "metadata": {
    "colab": {
      "provenance": [],
      "authorship_tag": "ABX9TyM0kkozfARN0JDODsaMSdnr"
    },
    "kernelspec": {
      "name": "python3",
      "display_name": "Python 3"
    },
    "language_info": {
      "name": "python"
    }
  },
  "cells": [
    {
      "cell_type": "code",
      "execution_count": 1,
      "metadata": {
        "id": "dqunufNSZEr5"
      },
      "outputs": [],
      "source": [
        "import numpy as np\n",
        "import tensorflow as tf\n",
        "from tensorflow import keras\n",
        "from keras import layers"
      ]
    },
    {
      "cell_type": "code",
      "source": [
        "inputs = keras.Input(shape=(8,8,2))"
      ],
      "metadata": {
        "id": "U8SlEgPbZ0e8"
      },
      "execution_count": 4,
      "outputs": []
    },
    {
      "cell_type": "code",
      "source": [
        "inputs.shape"
      ],
      "metadata": {
        "colab": {
          "base_uri": "https://localhost:8080/"
        },
        "id": "KLHsUIgSZ0qp",
        "outputId": "a9362acf-974f-4f7a-874f-bf5e412068b3"
      },
      "execution_count": 5,
      "outputs": [
        {
          "output_type": "execute_result",
          "data": {
            "text/plain": [
              "TensorShape([None, 8, 8, 2])"
            ]
          },
          "metadata": {},
          "execution_count": 5
        }
      ]
    },
    {
      "cell_type": "code",
      "source": [
        "inputs.dtype"
      ],
      "metadata": {
        "colab": {
          "base_uri": "https://localhost:8080/"
        },
        "id": "VB1sYEG0Z0vb",
        "outputId": "37432685-e75e-4117-a8bb-e9cff57107f9"
      },
      "execution_count": 6,
      "outputs": [
        {
          "output_type": "execute_result",
          "data": {
            "text/plain": [
              "tf.float32"
            ]
          },
          "metadata": {},
          "execution_count": 6
        }
      ]
    },
    {
      "cell_type": "markdown",
      "source": [
        "Directed Acyclic Graph ??                                             "
      ],
      "metadata": {
        "id": "Y3K7KYbobKHh"
      }
    },
    {
      "cell_type": "markdown",
      "source": [
        "Building a basic graph with three layers"
      ],
      "metadata": {
        "id": "Jof5VtMmbyR_"
      }
    },
    {
      "cell_type": "code",
      "source": [
        "dense = layers.Dense(64,activation = \"relu\")\n",
        "x= dense(inputs)"
      ],
      "metadata": {
        "id": "AAUqQIeHZ0yF"
      },
      "execution_count": 8,
      "outputs": []
    },
    {
      "cell_type": "code",
      "source": [
        "x = layers.Dense(64,activation=\"relu\")(x)"
      ],
      "metadata": {
        "id": "et6NB6tWZ00t"
      },
      "execution_count": 13,
      "outputs": []
    },
    {
      "cell_type": "code",
      "source": [
        "outputs = layers.Dense(10)(x)"
      ],
      "metadata": {
        "id": "55fq064ld_Xy"
      },
      "execution_count": 15,
      "outputs": []
    },
    {
      "cell_type": "code",
      "source": [
        "model = keras.Model(inputs=inputs,outputs=outputs,name= \"my_model\")"
      ],
      "metadata": {
        "id": "8w6gdtoHZ03K"
      },
      "execution_count": 16,
      "outputs": []
    },
    {
      "cell_type": "code",
      "source": [
        "model.summary()"
      ],
      "metadata": {
        "colab": {
          "base_uri": "https://localhost:8080/"
        },
        "id": "OXhGiAImeOF2",
        "outputId": "91404c51-7fa1-47a4-cb21-8b48a882ca3e"
      },
      "execution_count": 17,
      "outputs": [
        {
          "output_type": "stream",
          "name": "stdout",
          "text": [
            "Model: \"my_model\"\n",
            "_________________________________________________________________\n",
            " Layer (type)                Output Shape              Param #   \n",
            "=================================================================\n",
            " input_2 (InputLayer)        [(None, 8, 8, 2)]         0         \n",
            "                                                                 \n",
            " dense_1 (Dense)             (None, 8, 8, 64)          192       \n",
            "                                                                 \n",
            " dense_2 (Dense)             (None, 8, 8, 64)          4160      \n",
            "                                                                 \n",
            " dense_4 (Dense)             (None, 8, 8, 64)          4160      \n",
            "                                                                 \n",
            " dense_6 (Dense)             (None, 8, 8, 10)          650       \n",
            "                                                                 \n",
            "=================================================================\n",
            "Total params: 9162 (35.79 KB)\n",
            "Trainable params: 9162 (35.79 KB)\n",
            "Non-trainable params: 0 (0.00 Byte)\n",
            "_________________________________________________________________\n"
          ]
        }
      ]
    },
    {
      "cell_type": "code",
      "source": [
        "keras.utils.plot_model(model,\"my_first_model.png\")"
      ],
      "metadata": {
        "colab": {
          "base_uri": "https://localhost:8080/",
          "height": 466
        },
        "id": "ixtxFKD0eqPa",
        "outputId": "0c2bf284-a85d-4a0e-fa27-1d626f946496"
      },
      "execution_count": 18,
      "outputs": [
        {
          "output_type": "execute_result",
          "data": {
            "image/png": "[encoded data removed]",
            "text/plain": [
              "<IPython.core.display.Image object>"
            ]
          },
          "metadata": {},
          "execution_count": 18
        }
      ]
    }
  ]
}