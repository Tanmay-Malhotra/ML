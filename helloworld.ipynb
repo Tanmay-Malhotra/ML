{
  "nbformat": 4,
  "nbformat_minor": 0,
  "metadata": {
    "colab": {
      "provenance": [],
      "authorship_tag": "ABX9TyPFxv52ajlaloKW6waDBfeT"
    },
    "kernelspec": {
      "name": "python3",
      "display_name": "Python 3"
    },
    "language_info": {
      "name": "python"
    }
  },
  "cells": [
    {
      "cell_type": "code",
      "execution_count": 1,
      "metadata": {
        "id": "Tc0TOLQoE_pR"
      },
      "outputs": [],
      "source": [
        "import numpy as np\n",
        "import os\n",
        "\n",
        "os.environ[\"KERAS_BACKEND\"]=\"tensorflow\"\n",
        "\n",
        "import keras"
      ]
    },
    {
      "cell_type": "code",
      "source": [
        "(x_train,y_train),(x_test,y_test) = keras.datasets.mnist.load_data()\n",
        "#scaling images\n",
        "x_train = x_train.astype(\"float32\")/255\n",
        "x_test = x_test.astype(\"float32\")/255\n",
        "\n",
        "x_train = np.expand_dims(x_train, -1)\n",
        "x_test = np.expand_dims(x_test, -1)\n",
        "\n",
        "print(\"x_train shape:\", x_train.shape)\n",
        "print(\"y_train shape:\", y_train.shape)\n",
        "print(x_train.shape[0],\"train samples\")\n",
        "print(x_test.shape[0],\"test samples\")\n",
        "\n",
        "\n",
        "num_classes = 10\n",
        "input_shape = (28, 28, 1)\n",
        "\n",
        "model = keras.Sequential(\n",
        "    [\n",
        "        keras.layers.Input(shape=input_shape),\n",
        "        keras.layers.Conv2D(64,kernel_size=(3,3),activation =\"relu\"),\n",
        "        keras.layers.Conv2D(64,kernel_size=(3,3),activation =\"relu\"),\n",
        "        keras.layers.MaxPooling2D(pool_size=(2,2)),\n",
        "        keras.layers.Conv2D(128, kernel_size=(3,3), activation =\"relu\"),\n",
        "        keras.layers.Conv2D(128, kernel_size=(3,3),activation =\"relu\"),\n",
        "        keras.layers.GlobalAveragePooling2D(),\n",
        "        keras.layers.Dropout(0.5),\n",
        "        keras.layers.Dense(num_classes,activation = \"softmax\"),\n",
        "    ]\n",
        ")\n"
      ],
      "metadata": {
        "colab": {
          "base_uri": "https://localhost:8080/"
        },
        "id": "v3d6yHK3FfaE",
        "outputId": "7a0361dc-d6de-410e-a84d-5a7f45bf4724"
      },
      "execution_count": 2,
      "outputs": [
        {
          "output_type": "stream",
          "name": "stdout",
          "text": [
            "Downloading data from https://storage.googleapis.com/tensorflow/tf-keras-datasets/mnist.npz\n",
            "11490434/11490434 [==============================] - 0s 0us/step\n",
            "x_train shape: (60000, 28, 28, 1)\n",
            "y_train shape: (60000,)\n",
            "60000 train samples\n",
            "10000 test samples\n"
          ]
        }
      ]
    },
    {
      "cell_type": "code",
      "source": [
        "model.summary()"
      ],
      "metadata": {
        "colab": {
          "base_uri": "https://localhost:8080/"
        },
        "id": "7N6HTs9LFfit",
        "outputId": "806ee7ad-7757-4f72-dc79-c051053ea9ad"
      },
      "execution_count": 3,
      "outputs": [
        {
          "output_type": "stream",
          "name": "stdout",
          "text": [
            "Model: \"sequential\"\n",
            "_________________________________________________________________\n",
            " Layer (type)                Output Shape              Param #   \n",
            "=================================================================\n",
            " conv2d (Conv2D)             (None, 26, 26, 64)        640       \n",
            "                                                                 \n",
            " conv2d_1 (Conv2D)           (None, 24, 24, 64)        36928     \n",
            "                                                                 \n",
            " max_pooling2d (MaxPooling2  (None, 12, 12, 64)        0         \n",
            " D)                                                              \n",
            "                                                                 \n",
            " conv2d_2 (Conv2D)           (None, 10, 10, 128)       73856     \n",
            "                                                                 \n",
            " conv2d_3 (Conv2D)           (None, 8, 8, 128)         147584    \n",
            "                                                                 \n",
            " global_average_pooling2d (  (None, 128)               0         \n",
            " GlobalAveragePooling2D)                                         \n",
            "                                                                 \n",
            " dropout (Dropout)           (None, 128)               0         \n",
            "                                                                 \n",
            " dense (Dense)               (None, 10)                1290      \n",
            "                                                                 \n",
            "=================================================================\n",
            "Total params: 260298 (1016.79 KB)\n",
            "Trainable params: 260298 (1016.79 KB)\n",
            "Non-trainable params: 0 (0.00 Byte)\n",
            "_________________________________________________________________\n"
          ]
        }
      ]
    },
    {
      "cell_type": "code",
      "source": [
        "model.compile(\n",
        "    loss=keras.losses.SparseCategoricalCrossentropy(),\n",
        "    optimizer=keras.optimizers.Adam(learning_rate=0.001),\n",
        "    metrics=[\n",
        "        keras.metrics.SparseCategoricalAccuracy(name=\"acc\")\n",
        "    ],\n",
        ")\n"
      ],
      "metadata": {
        "id": "Ede6m4fjFflS"
      },
      "execution_count": 7,
      "outputs": []
    },
    {
      "cell_type": "code",
      "source": [
        "batch_size = 128"
      ],
      "metadata": {
        "id": "uJQ-mSH_FfoF"
      },
      "execution_count": 8,
      "outputs": []
    },
    {
      "cell_type": "code",
      "source": [
        "epochs = 20\n"
      ],
      "metadata": {
        "id": "XyVtHI75Ffst"
      },
      "execution_count": 9,
      "outputs": []
    },
    {
      "cell_type": "code",
      "source": [
        "callbacks=[\n",
        "        keras.callbacks.ModelCheckpoint(filepath=\"model_at_epoch_{epoch}.keras\"),\n",
        "        keras.callbacks.EarlyStopping(monitor=\"val_loss\", patience=2),\n",
        "]\n",
        "model.fit(\n",
        "    x_train,\n",
        "    y_train,\n",
        "    batch_size=batch_size,\n",
        "    epochs=epochs,\n",
        "    validation_split=0.15,\n",
        "    callbacks=callbacks,\n",
        ")\n",
        "\n",
        "score = model.evaluate(x_test, y_test, verbose=0)"
      ],
      "metadata": {
        "colab": {
          "base_uri": "https://localhost:8080/"
        },
        "id": "I9XefRXRNCUZ",
        "outputId": "4ff6acf8-f88a-49d7-ae75-bc29e40e505a"
      },
      "execution_count": 10,
      "outputs": [
        {
          "output_type": "stream",
          "name": "stdout",
          "text": [
            "Epoch 1/20\n",
            "399/399 [==============================] - 287s 717ms/step - loss: 0.7597 - acc: 0.7439 - val_loss: 0.1358 - val_acc: 0.9628\n",
            "Epoch 2/20\n",
            "399/399 [==============================] - 279s 699ms/step - loss: 0.2177 - acc: 0.9371 - val_loss: 0.0844 - val_acc: 0.9770\n",
            "Epoch 3/20\n",
            "399/399 [==============================] - 279s 699ms/step - loss: 0.1513 - acc: 0.9542 - val_loss: 0.0758 - val_acc: 0.9798\n",
            "Epoch 4/20\n",
            "399/399 [==============================] - 286s 717ms/step - loss: 0.1241 - acc: 0.9625 - val_loss: 0.0526 - val_acc: 0.9853\n",
            "Epoch 5/20\n",
            "399/399 [==============================] - 278s 697ms/step - loss: 0.1022 - acc: 0.9696 - val_loss: 0.0518 - val_acc: 0.9861\n",
            "Epoch 6/20\n",
            "399/399 [==============================] - 287s 718ms/step - loss: 0.0901 - acc: 0.9738 - val_loss: 0.0447 - val_acc: 0.9888\n",
            "Epoch 7/20\n",
            "399/399 [==============================] - 288s 722ms/step - loss: 0.0815 - acc: 0.9756 - val_loss: 0.0381 - val_acc: 0.9886\n",
            "Epoch 8/20\n",
            "399/399 [==============================] - 287s 720ms/step - loss: 0.0727 - acc: 0.9784 - val_loss: 0.0369 - val_acc: 0.9900\n",
            "Epoch 9/20\n",
            "399/399 [==============================] - 287s 719ms/step - loss: 0.0645 - acc: 0.9807 - val_loss: 0.0306 - val_acc: 0.9912\n",
            "Epoch 10/20\n",
            "399/399 [==============================] - 286s 717ms/step - loss: 0.0615 - acc: 0.9816 - val_loss: 0.0354 - val_acc: 0.9908\n",
            "Epoch 11/20\n",
            "399/399 [==============================] - 285s 715ms/step - loss: 0.0557 - acc: 0.9842 - val_loss: 0.0322 - val_acc: 0.9904\n"
          ]
        }
      ]
    },
    {
      "cell_type": "code",
      "source": [
        "model.save(\"final_model.keras\")"
      ],
      "metadata": {
        "id": "f-qvS7gwNCWK"
      },
      "execution_count": 11,
      "outputs": []
    },
    {
      "cell_type": "code",
      "source": [
        "model = keras.saving.load_model(\"final_model.keras\")"
      ],
      "metadata": {
        "id": "k6hJSc0DNCYU"
      },
      "execution_count": 13,
      "outputs": []
    },
    {
      "cell_type": "code",
      "source": [
        "predictions = model.predict(x_test)"
      ],
      "metadata": {
        "id": "dylRLjHTNCbB",
        "colab": {
          "base_uri": "https://localhost:8080/"
        },
        "outputId": "1137c897-a740-46a3-85bf-218dc894a7cf"
      },
      "execution_count": 14,
      "outputs": [
        {
          "output_type": "stream",
          "name": "stdout",
          "text": [
            "313/313 [==============================] - 15s 48ms/step\n"
          ]
        }
      ]
    },
    {
      "cell_type": "code",
      "source": [],
      "metadata": {
        "id": "bKidrW8NNChG"
      },
      "execution_count": null,
      "outputs": []
    }
  ]
}